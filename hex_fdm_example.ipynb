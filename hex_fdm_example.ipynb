{
 "cells": [
  {
   "cell_type": "markdown",
   "id": "8bd0fe6f-0d1e-4924-9ff7-6331472d954c",
   "metadata": {},
   "source": [
    "#### Jupyter notebook example of a hexagonal stencil being used for finite difference method"
   ]
  },
  {
   "cell_type": "markdown",
   "id": "94cacc8c-26f9-4c74-aa55-e875ba9f5ee3",
   "metadata": {},
   "source": [
    "An example of a finite differences method using a hexagonal mesh is given for the simple 2D heat equation for $u(t,x,y)$ defined on the domain $I \\times \\Omega = \\{(t,x,y) : 0 < t,\\; 0 < x < 1,\\; 0 < y < 1\\},$\n",
    "$$\\frac{\\partial u}{\\partial t} = \\mu \\left( \\frac{\\partial^2 u}{\\partial x^2} + \\frac{\\partial^2 u}{\\partial y^2} \\right), $$\n",
    "with Dirichlet boundary conditions.\n",
    "\n",
    "The function \n",
    "$$u(t,x,y) = \\cos(2 \\pi x) \\cos(2 \\pi y) e^{-8\\mu t \\pi^2},$$ \n",
    "which satisfies the partial differential equation, is used as a test problem below. The boundary conditions are chosen for consistency with the example."
   ]
  },
  {
   "cell_type": "markdown",
   "id": "eb615943-9f66-44f1-8326-543e64673f2b",
   "metadata": {},
   "source": [
    "This notebook requires numpy, scipy and matplotlib. \n",
    "If you do not have these already, consider trying `!pip install numpy scipy matplotlib` in a Jupyter code cell. Versions known to work are numpy (2.1.2), scipy (1.14.1), matplotlib (3.9.2)."
   ]
  },
  {
   "cell_type": "raw",
   "id": "1a5b95ab-8c26-4c0b-ac81-93f6ce10d2d3",
   "metadata": {},
   "source": [
    "!pip install scipy numpy matplotlib"
   ]
  },
  {
   "cell_type": "code",
   "execution_count": null,
   "id": "869b7cf0-ee53-4652-a293-a42d89947cf7",
   "metadata": {},
   "outputs": [],
   "source": [
    "%matplotlib ipympl\n",
    "\n",
    "import numpy as np\n",
    "import matplotlib.pyplot as plt\n",
    "import scipy, scipy.sparse, scipy.sparse.linalg, matplotlib, IPython\n",
    "from mpl_toolkits.mplot3d import Axes3D, art3d\n",
    "from matplotlib.animation import FuncAnimation, PillowWriter\n",
    "\n",
    "matplotlib.interactive(True) # Often needed for generating animations"
   ]
  },
  {
   "cell_type": "code",
   "execution_count": null,
   "id": "607c559e-f544-44ed-82bb-9a24c17c2215",
   "metadata": {},
   "outputs": [],
   "source": [
    "N = 24 # grid subdivisions (both x and y equally), pick an even number greater 6 or greater\n",
    "assert N%2 == 0 and N > 4, \"Life is easier when you pick an even number greater than 4 for N\""
   ]
  },
  {
   "cell_type": "code",
   "execution_count": null,
   "id": "eed0575e-7598-4e25-a885-702bc519228a",
   "metadata": {},
   "outputs": [],
   "source": [
    "# hex grid\n",
    "hhat = 1.0 / N\n",
    "off_x, short_x, long_x = 0.5*hhat, hhat, 2.0*hhat\n",
    "off_y = hhat*np.sqrt(3.0) / 2.0\n",
    "\n",
    "jdx = np.arange(N)\n",
    "initoff = np.where(jdx % 2 == 1, 1, 0)\n",
    "initoff.resize((N,1))\n",
    "\n",
    "idx = np.arange(N-1)\n",
    "idx, jdx = np.meshgrid(idx,jdx)\n",
    "shortoff = np.where((idx+1) % 2 == jdx % 2, 1, 0)\n",
    "\n",
    "hex_x = short_x * shortoff + long_x * (1-shortoff)\n",
    "hex_x = np.hstack((initoff*off_x, hex_x)).cumsum(axis=1)\n",
    "\n",
    "idx, jdx = np.arange(N), np.arange(N)\n",
    "idx, jdx = np.meshgrid(idx,jdx)\n",
    "hex_y = off_y * jdx\n",
    "\n",
    "hex_y.resize(N*N, 1)\n",
    "hex_x.resize(N*N, 1)\n",
    "\n",
    "# Ensure md array is 1d array for np indicies \n",
    "hex_x = np.hstack(hex_x) / hex_x.max()\n",
    "hex_y = np.hstack(hex_y) / hex_y.max()"
   ]
  },
  {
   "cell_type": "code",
   "execution_count": null,
   "id": "94af15e0-e216-42c3-a192-7d19ab2335d7",
   "metadata": {},
   "outputs": [],
   "source": [
    "# connectivity (and for plotting)\n",
    "hex_poly_tmp = np.vstack((1+np.arange(N-1)[::2], 1+N+np.arange(N-1)[::2], 1+2*N+np.arange(N-1)[::2], \n",
    "                     2+2*N+np.arange(N-1)[::2], 2+N+np.arange(N-1)[::2], 2+np.arange(N-1)[::2],    )).T\n",
    "hex_polys = np.vstack([np.vstack(( hex_poly_tmp[:-1] + 2*j*N,  hex_poly_tmp +  (2*j+1)*N - 1 ) ) for j in range( (N>>1) - 1 ) ])\n",
    "\n",
    "hex_bcs_left   = np.arange(N)*N\n",
    "hex_bcs_right  = np.arange(N)*N + N-1\n",
    "hex_bcs_bottom = np.hstack((np.array([N+1]), np.hstack( np.vstack((np.arange(1,N-1)[::2], 1+np.arange(1,N-1)[::2], 1+N+np.arange(1,N-1)[::2], 2+N+np.arange(1,N-1)[::2])).T)))[:-1]\n",
    "hex_bcs_top    = np.hstack(np.vstack( (N*(N-1)+ np.arange(1,N-1)[::2], -N + N*(N-1)+ np.arange(1,N-1)[::2], 1 -N + N*(N-1)+ np.arange(1,N-1)[::2], 1 + N*(N-1)+ np.arange(1,N-1)[::2] ) ).T)\n",
    "hex_bcs_all    = np.hstack((hex_bcs_bottom,hex_bcs_right,hex_bcs_top[::-1], hex_bcs_left[::-1]))"
   ]
  },
  {
   "cell_type": "code",
   "execution_count": null,
   "id": "779a02c4-985c-43dd-80c5-6e1ea948b03d",
   "metadata": {},
   "outputs": [],
   "source": [
    "# used to generate the two reflective stencils used in the hexagonal mesh\n",
    "hex_tmp_r = np.vstack(( 1+N+np.arange(N-1)[::2], 1+2*N+np.arange(N-1)[::2], \n",
    "                     2+2*N+np.arange(N-1)[::2], 3*N+1+np.arange(N-1)[::2],  )).T\n",
    "hex_stencil_r = np.vstack([np.vstack(( hex_tmp_r[:-1] + 2*j*N,  hex_tmp_r[1:] +  (2*j+1)*N - 1 ) ) for j in range( (N>>1) - 2 ) ])\n",
    "\n",
    "hex_tmp_l = np.vstack(( N+np.arange(N-1)[::2], -1+2*N+np.arange(N-1)[::2], \n",
    "                     2*N+np.arange(N-1)[::2], 3*N+np.arange(N-1)[::2] ,  )).T\n",
    "hex_stencil_l = np.vstack([np.vstack(( hex_tmp_l[1:] + 2*j*N,  hex_tmp_l[1:] +  (2*j+1)*N - 1 ) ) for j in range( (N>>1) - 2 ) ])\n",
    "\n",
    "hex_centr = np.hstack((hex_stencil_r[:,2],hex_stencil_l[:,1]))"
   ]
  },
  {
   "cell_type": "code",
   "execution_count": null,
   "id": "cade3493-fb32-4a8a-a703-ffc84a67994e",
   "metadata": {},
   "outputs": [],
   "source": [
    "# Rectangular grid\n",
    "rect_x, rect_y = np.linspace(0,1,N), np.linspace(0,1,N)\n",
    "sX,sY = np.meshgrid(rect_x,rect_y)\n",
    "rect_x, rect_y = np.hstack(sX), np.hstack(sY)\n",
    "\n",
    "idx, jdx   = np.arange(1,N-1), np.arange(1,N-1)\n",
    "idx, jdx   = np.meshgrid(idx,jdx)\n",
    "rect_centr = np.hstack(jdx*N + idx)\n",
    "rect_centr.resize((N-2)*(N-2),1)\n",
    "rect_stencil = np.hstack((rect_centr-N, rect_centr-1, rect_centr, rect_centr+1, rect_centr+N))\n",
    "rect_centr = np.hstack(rect_centr)\n",
    "\n",
    "rect_bcs_left   = np.arange(1,N-1)*N\n",
    "rect_bcs_right  = np.arange(1,N-1)*N + N-1\n",
    "rect_bcs_bottom = np.arange(N)\n",
    "rect_bcs_top    = (N-1)*N + np.arange(N)\n",
    "rect_bcs_all    = np.hstack((rect_bcs_bottom,rect_bcs_right,rect_bcs_top[::-1],rect_bcs_left[::-1]))\n",
    "\n",
    "# this section is not needed for calculation (but is nice for plotting later on)\n",
    "idx = np.arange(N-1)\n",
    "jdx = np.arange(N-1)\n",
    "idx, jdx = np.meshgrid(idx,jdx)\n",
    "rect_polys = np.vstack(np.array((jdx*N + idx, jdx*N + idx+1, (jdx+1)*N +idx+1, (jdx+1)*N + idx)).T)\n",
    "\n",
    "# Ensure md array is 1d array for np indicies \n",
    "rect_x = np.hstack(rect_x)\n",
    "rect_y = np.hstack(rect_y)"
   ]
  },
  {
   "cell_type": "code",
   "execution_count": null,
   "id": "4142396b-5d61-40e3-94ad-b43e48474a53",
   "metadata": {},
   "outputs": [],
   "source": [
    "N2 = N*N\n",
    "h = 1.0 / N\n",
    "\n",
    "# Simulation paramters\n",
    "dt = 5e-2\n",
    "mu = 1e-2\n",
    "\n",
    "# Initial and boundary condition\n",
    "#exact_u = lambda t,x,y:  2*np.cos(np.pi*4*x)*np.exp(-mu*16*np.pi**2*t) # example 1\n",
    "exact_u = lambda t,x,y:  np.cos(np.pi*2*x) *np.cos(np.pi*2*y) * np.exp(-8*mu*t*np.pi**2)  # example 2\n",
    "\n",
    "# Dirichlet BCs\n",
    "rect_rows  = np.arange(len(rect_bcs_all)) \n",
    "rect_I_bc  = scipy.sparse.csr_matrix((1 +0*rect_rows,(rect_rows, rect_bcs_all)), shape=(N2,N2) ) \n",
    "\n",
    "hex_rows  = np.arange(len(hex_bcs_all)) \n",
    "hex_I_bc  = scipy.sparse.csr_matrix((1 +0*hex_rows,(hex_rows, hex_bcs_all)), shape=(N2,N2) ) \n",
    "\n",
    "# Effective Mass + Stiffness matricies\n",
    "rect_rows_bulk_start_idx = 1 + rect_rows[-1]\n",
    "rect_rows = rect_rows_bulk_start_idx + np.repeat(np.arange(rect_centr.shape[0]), 5)\n",
    "rect_cols = np.hstack(rect_stencil)\n",
    "rect_elmt = np.tile(np.array([mu/h**2, mu/h**2, -1/dt -mu*4/h**2, mu/h**2, mu/h**2]), (N-2)*(N-2))\n",
    "rect_A = scipy.sparse.csr_matrix( (rect_elmt, (rect_rows, rect_cols)), shape=(N2,N2) )\n",
    "\n",
    "hex_rows_bulk_start_idx = 1 + hex_rows[-1]\n",
    "hex_rows = hex_rows_bulk_start_idx + np.repeat(np.arange(hex_stencil_r.shape[0]), 4)\n",
    "hex_cols_r = np.hstack(hex_stencil_r)\n",
    "hex_elmt_r = np.tile(np.array([mu*4/(3*h**2), -mu*4/(h**2) -1/dt, mu*4/(3*h**2),  mu*4/(3*h**2)]), hex_stencil_r.shape[0])\n",
    "hex_A_r = scipy.sparse.csr_matrix( (hex_elmt_r, (hex_rows, hex_cols_r)), shape=(N2,N2) )\n",
    "\n",
    "hex_rows = 1 + hex_rows[-1] + np.repeat(np.arange(hex_stencil_l.shape[0]), 4)\n",
    "hex_cols_l = np.hstack(hex_stencil_l)\n",
    "hex_elmt_l = np.tile(np.array([mu*4/(3*h**2), mu*4/(3*h**2), -mu*4/(h**2) -1/dt,  mu*4/(3*h**2)]), hex_stencil_l.shape[0])\n",
    "hex_A_l = scipy.sparse.csr_matrix( (hex_elmt_l, (hex_rows, hex_cols_l)), shape=(N2,N2) )\n",
    "\n",
    "# Right hand side\n",
    "rect_rhs  = np.zeros(N2)\n",
    "rect_rhs[np.arange(len(rect_bcs_all))] = exact_u(0, rect_x[rect_bcs_all], rect_y[rect_bcs_all]) \n",
    "rect_bulk_rhs_rows  = rect_rows_bulk_start_idx + np.arange(rect_centr.shape[0])\n",
    "#rect_rhs[rect_bulk_rhs_rows] = -rect_u[ rect_centr ]/dt -- here for reference but not used until stepping+plotting\n",
    "\n",
    "hex_rhs = np.zeros(N2)\n",
    "hex_rhs[np.arange(len(hex_bcs_all))] = exact_u(0, hex_x[hex_bcs_all], hex_y[hex_bcs_all]) \n",
    "hex_bc_rows  = np.arange(len(hex_bcs_all)) \n",
    "hex_bulk_rhs_rows  = hex_rows_bulk_start_idx + np.arange(hex_centr.shape[0])\n",
    "#hex_rhs[hex_bulk_rhs_rows] = -hex_u[ hex_centr ]/dt -- here for reference but not used until stepping+plotting\n",
    "\n",
    "# Precomputed full left hand system\n",
    "rect_M = rect_I_bc + rect_A\n",
    "hex_M  = hex_I_bc + hex_A_r + hex_A_l\n"
   ]
  },
  {
   "cell_type": "markdown",
   "id": "7b515577-b689-4f33-887c-41f12a668825",
   "metadata": {},
   "source": [
    "### The hard part is over, what follows below is plotting code"
   ]
  },
  {
   "cell_type": "code",
   "execution_count": null,
   "id": "5010c648-7255-4d0c-aec1-779d4eb90dac",
   "metadata": {},
   "outputs": [],
   "source": [
    "# Dark mode\n",
    "plt.rcParams['axes.facecolor']  = '#000'\n",
    "plt.rcParams['axes.titley']     = -0.05\n",
    "plt.rcParams['axes.labelcolor'] = '#fff'\n",
    "plt.rcParams['axes.titlecolor'] = '#fff'"
   ]
  },
  {
   "cell_type": "code",
   "execution_count": null,
   "id": "b07b0438-3c55-42f3-adba-a4645771dfff",
   "metadata": {},
   "outputs": [],
   "source": [
    "time = 0\n",
    "def drawstep(ax1,ax2,ax3):\n",
    "    global hex_u, rect_u\n",
    "    global rect_M, rect_rhs\n",
    "    global hex_M, hex_rhs\n",
    "    global time, dt\n",
    "\n",
    "    # Draw\n",
    "    plt.tight_layout(pad=-1)\n",
    "    \n",
    "    tt =  np.column_stack((rect_x,rect_y,rect_u))\n",
    "    ax1.add_collection3d(art3d.Poly3DCollection(tt[rect_polys], facecolors='#333', alpha=1.0, edgecolors='white', linewidth=0.5))\n",
    "    ax1.set_title('Rectangular mesh')\n",
    "    ax1.view_init(65,200) \n",
    "    ax1.axis('off')\n",
    "    ax1.xaxis.pane.fill, ax1.yaxis.pane.fill, ax1.zaxis.pane.fill = False, False, False\n",
    "    ax1.set_zlim([-1,1])\n",
    "    ax1.grid(False)\n",
    "    \n",
    "    tt =  np.column_stack((hex_x,hex_y,hex_u))\n",
    "    ax2.add_collection3d(art3d.Poly3DCollection(tt[hex_polys], facecolors='#333', alpha=1.0, edgecolors='white', linewidth=0.5))\n",
    "    ax2.set_title('Hexagonal mesh')\n",
    "    ax2.view_init(65,200) \n",
    "    ax2.axis('off')\n",
    "    ax2.xaxis.pane.fill, ax2.yaxis.pane.fill, ax2.zaxis.pane.fill = False, False, False\n",
    "    ax2.set_zlim([-1,1])\n",
    "    ax2.grid(False)\n",
    "\n",
    "    tt =  np.column_stack((hex_x,hex_y, exact_u(time, hex_x,hex_y) ))\n",
    "    ax3.add_collection3d(art3d.Poly3DCollection(tt[hex_polys], facecolors='#333', alpha=1.0, edgecolors='white', linewidth=0.5))\n",
    "    ax3.set_title('Exact solution')\n",
    "    ax3.view_init(65,200) \n",
    "    ax3.axis('off')\n",
    "    ax3.xaxis.pane.fill, ax2.yaxis.pane.fill, ax2.zaxis.pane.fill = False, False, False\n",
    "    ax3.set_zlim([-1,1])\n",
    "    ax3.grid(False)\n",
    "\n",
    "    # Step\n",
    "    rect_rhs[np.arange(len(rect_bcs_all))] = exact_u(time, rect_x[rect_bcs_all], rect_y[rect_bcs_all]) \n",
    "    hex_rhs[np.arange(len(hex_bcs_all))] = exact_u(time, hex_x[hex_bcs_all], hex_y[hex_bcs_all])\n",
    "\n",
    "    rect_rhs[rect_bulk_rhs_rows] = -rect_u[rect_centr]/dt\n",
    "    hex_rhs[hex_bulk_rhs_rows] = -hex_u[hex_centr]/dt\n",
    "\n",
    "    rect_u = scipy.sparse.linalg.spsolve(rect_M, rect_rhs)\n",
    "    hex_u  = scipy.sparse.linalg.spsolve(hex_M, hex_rhs)\n",
    "\n",
    "    time += dt\n"
   ]
  },
  {
   "cell_type": "raw",
   "id": "7305853b-5d01-41aa-b2ce-acb0aa63f60d",
   "metadata": {},
   "source": [
    "# Uncomment for single plot\n",
    "time = 1\n",
    "hex_u  = exact_u(time, hex_x, hex_y) \n",
    "rect_u = exact_u(time, rect_x, rect_y) \n",
    "\n",
    "fig = plt.figure(figsize=(9,3))\n",
    "fig.patch.set_facecolor('#000') # Dark mode\n",
    "\n",
    "ax1 = fig.add_subplot(131, projection='3d')\n",
    "ax2 = fig.add_subplot(132, projection='3d')\n",
    "ax3 = fig.add_subplot(133, projection='3d')\n",
    "\n",
    "drawstep(ax1,ax2,ax3)"
   ]
  },
  {
   "cell_type": "code",
   "execution_count": null,
   "id": "5d169501-59e3-41cd-ac91-7971e0db5a77",
   "metadata": {},
   "outputs": [],
   "source": [
    "# Animation (may take a while to generate)\n",
    "time = 0\n",
    "hex_u  = exact_u(time, hex_x, hex_y) \n",
    "rect_u = exact_u(time, rect_x, rect_y) \n",
    "\n",
    "fig = plt.figure(figsize=(10,5), dpi=150)\n",
    "\n",
    "plt.rcParams['axes.facecolor'] = '#000'\n",
    "fig.patch.set_facecolor('#000')\n",
    "ax1 = fig.add_subplot(131, projection='3d')\n",
    "ax2 = fig.add_subplot(132, projection='3d')\n",
    "ax3 = fig.add_subplot(133, projection='3d')\n",
    "\n",
    "def animate(frame):\n",
    "    ax1, ax2, ax3 = globals()['ax1'], globals()['ax2'], globals()['ax3']\n",
    "    ax1.clear(), ax2.clear(), ax3.clear()\n",
    "    drawstep(ax1,ax2,ax3)\n",
    "    return [ax1,ax2,ax3]\n",
    "\n",
    "gifname='hex_fdm_example.gif'\n",
    "ani = FuncAnimation(fig, animate, frames=np.arange(50), init_func=None, blit=False, interval=100, repeat=False)\n",
    "ani.save(gifname, writer=PillowWriter(fps=8))"
   ]
  },
  {
   "cell_type": "markdown",
   "id": "b88f33ac-a6b7-47bb-8651-f1b4ef67e130",
   "metadata": {},
   "source": [
    "Your browser may cache the gif file so you may want to rename the file to get a new rendering to load right away"
   ]
  },
  {
   "cell_type": "code",
   "execution_count": 3,
   "id": "3ae69209-0998-494e-8103-bfa667291a31",
   "metadata": {},
   "outputs": [
    {
     "data": {
      "text/html": [
       "<td><img src=\"hex_fdm_example.gif\" width=\"100%\" /></td>"
      ],
      "text/plain": [
       "<IPython.core.display.HTML object>"
      ]
     },
     "execution_count": 3,
     "metadata": {},
     "output_type": "execute_result"
    }
   ],
   "source": [
    "IPython.display.HTML(f'<td><img src=\"{gifname}\" width=\"100%\" /></td>')"
   ]
  }
 ],
 "metadata": {
  "kernelspec": {
   "display_name": "Python 3 (ipykernel)",
   "language": "python",
   "name": "python3"
  },
  "language_info": {
   "codemirror_mode": {
    "name": "ipython",
    "version": 3
   },
   "file_extension": ".py",
   "mimetype": "text/x-python",
   "name": "python",
   "nbconvert_exporter": "python",
   "pygments_lexer": "ipython3",
   "version": "3.13.0"
  }
 },
 "nbformat": 4,
 "nbformat_minor": 5
}
